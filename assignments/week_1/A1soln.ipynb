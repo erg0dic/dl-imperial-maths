{
 "cells": [
  {
   "cell_type": "markdown",
   "metadata": {},
   "source": [
    "## Assignment 1: Getting to grips with PyTorch"
   ]
  },
  {
   "cell_type": "code",
   "execution_count": 334,
   "metadata": {},
   "outputs": [],
   "source": [
    "import torch as t\n",
    "import numpy as np\n",
    "import matplotlib.pyplot as plt\n",
    "import pandas as pd"
   ]
  },
  {
   "cell_type": "code",
   "execution_count": 335,
   "metadata": {},
   "outputs": [
    {
     "name": "stdout",
     "output_type": "stream",
     "text": [
      "<class 'pandas.core.frame.DataFrame'>\n",
      "RangeIndex: 51 entries, 0 to 50\n",
      "Data columns (total 6 columns):\n",
      " #   Column      Non-Null Count  Dtype  \n",
      "---  ------      --------------  -----  \n",
      " 0   Location    51 non-null     object \n",
      " 1   PovPct      51 non-null     float64\n",
      " 2   Brth15to17  51 non-null     float64\n",
      " 3   Brth18to19  51 non-null     float64\n",
      " 4   ViolCrime   51 non-null     float64\n",
      " 5   TeenBrth    51 non-null     float64\n",
      "dtypes: float64(5), object(1)\n",
      "memory usage: 2.5+ KB\n"
     ]
    }
   ],
   "source": [
    "dataset = pd.read_csv(\"poverty.txt\", delimiter=\"\\t\")\n",
    "dataset.info()"
   ]
  },
  {
   "cell_type": "code",
   "execution_count": 336,
   "metadata": {},
   "outputs": [
    {
     "data": {
      "text/html": [
       "<div>\n",
       "<style scoped>\n",
       "    .dataframe tbody tr th:only-of-type {\n",
       "        vertical-align: middle;\n",
       "    }\n",
       "\n",
       "    .dataframe tbody tr th {\n",
       "        vertical-align: top;\n",
       "    }\n",
       "\n",
       "    .dataframe thead th {\n",
       "        text-align: right;\n",
       "    }\n",
       "</style>\n",
       "<table border=\"1\" class=\"dataframe\">\n",
       "  <thead>\n",
       "    <tr style=\"text-align: right;\">\n",
       "      <th></th>\n",
       "      <th>Location</th>\n",
       "      <th>PovPct</th>\n",
       "      <th>Brth15to17</th>\n",
       "      <th>Brth18to19</th>\n",
       "      <th>ViolCrime</th>\n",
       "      <th>TeenBrth</th>\n",
       "    </tr>\n",
       "  </thead>\n",
       "  <tbody>\n",
       "    <tr>\n",
       "      <th>0</th>\n",
       "      <td>Alabama</td>\n",
       "      <td>20.1</td>\n",
       "      <td>31.5</td>\n",
       "      <td>88.7</td>\n",
       "      <td>11.2</td>\n",
       "      <td>54.5</td>\n",
       "    </tr>\n",
       "    <tr>\n",
       "      <th>1</th>\n",
       "      <td>Alaska</td>\n",
       "      <td>7.1</td>\n",
       "      <td>18.9</td>\n",
       "      <td>73.7</td>\n",
       "      <td>9.1</td>\n",
       "      <td>39.5</td>\n",
       "    </tr>\n",
       "    <tr>\n",
       "      <th>2</th>\n",
       "      <td>Arizona</td>\n",
       "      <td>16.1</td>\n",
       "      <td>35.0</td>\n",
       "      <td>102.5</td>\n",
       "      <td>10.4</td>\n",
       "      <td>61.2</td>\n",
       "    </tr>\n",
       "    <tr>\n",
       "      <th>3</th>\n",
       "      <td>Arkansas</td>\n",
       "      <td>14.9</td>\n",
       "      <td>31.6</td>\n",
       "      <td>101.7</td>\n",
       "      <td>10.4</td>\n",
       "      <td>59.9</td>\n",
       "    </tr>\n",
       "    <tr>\n",
       "      <th>4</th>\n",
       "      <td>California</td>\n",
       "      <td>16.7</td>\n",
       "      <td>22.6</td>\n",
       "      <td>69.1</td>\n",
       "      <td>11.2</td>\n",
       "      <td>41.1</td>\n",
       "    </tr>\n",
       "  </tbody>\n",
       "</table>\n",
       "</div>"
      ],
      "text/plain": [
       "     Location  PovPct  Brth15to17  Brth18to19  ViolCrime  TeenBrth\n",
       "0     Alabama    20.1        31.5        88.7       11.2      54.5\n",
       "1      Alaska     7.1        18.9        73.7        9.1      39.5\n",
       "2     Arizona    16.1        35.0       102.5       10.4      61.2\n",
       "3    Arkansas    14.9        31.6       101.7       10.4      59.9\n",
       "4  California    16.7        22.6        69.1       11.2      41.1"
      ]
     },
     "execution_count": 336,
     "metadata": {},
     "output_type": "execute_result"
    }
   ],
   "source": [
    "dataset.head()"
   ]
  },
  {
   "cell_type": "code",
   "execution_count": 337,
   "metadata": {},
   "outputs": [
    {
     "data": {
      "text/html": [
       "<div>\n",
       "<style scoped>\n",
       "    .dataframe tbody tr th:only-of-type {\n",
       "        vertical-align: middle;\n",
       "    }\n",
       "\n",
       "    .dataframe tbody tr th {\n",
       "        vertical-align: top;\n",
       "    }\n",
       "\n",
       "    .dataframe thead th {\n",
       "        text-align: right;\n",
       "    }\n",
       "</style>\n",
       "<table border=\"1\" class=\"dataframe\">\n",
       "  <thead>\n",
       "    <tr style=\"text-align: right;\">\n",
       "      <th></th>\n",
       "      <th>PovPct</th>\n",
       "      <th>Brth15to17</th>\n",
       "      <th>Brth18to19</th>\n",
       "      <th>ViolCrime</th>\n",
       "      <th>TeenBrth</th>\n",
       "    </tr>\n",
       "  </thead>\n",
       "  <tbody>\n",
       "    <tr>\n",
       "      <th>count</th>\n",
       "      <td>51.000000</td>\n",
       "      <td>51.000000</td>\n",
       "      <td>51.000000</td>\n",
       "      <td>51.000000</td>\n",
       "      <td>51.000000</td>\n",
       "    </tr>\n",
       "    <tr>\n",
       "      <th>mean</th>\n",
       "      <td>13.117647</td>\n",
       "      <td>22.282353</td>\n",
       "      <td>72.019608</td>\n",
       "      <td>7.854902</td>\n",
       "      <td>42.243137</td>\n",
       "    </tr>\n",
       "    <tr>\n",
       "      <th>std</th>\n",
       "      <td>4.277228</td>\n",
       "      <td>8.043499</td>\n",
       "      <td>18.975563</td>\n",
       "      <td>8.914131</td>\n",
       "      <td>12.318511</td>\n",
       "    </tr>\n",
       "    <tr>\n",
       "      <th>min</th>\n",
       "      <td>5.300000</td>\n",
       "      <td>8.100000</td>\n",
       "      <td>39.000000</td>\n",
       "      <td>0.900000</td>\n",
       "      <td>20.000000</td>\n",
       "    </tr>\n",
       "    <tr>\n",
       "      <th>25%</th>\n",
       "      <td>10.250000</td>\n",
       "      <td>17.250000</td>\n",
       "      <td>58.300000</td>\n",
       "      <td>3.900000</td>\n",
       "      <td>33.900000</td>\n",
       "    </tr>\n",
       "    <tr>\n",
       "      <th>50%</th>\n",
       "      <td>12.200000</td>\n",
       "      <td>20.000000</td>\n",
       "      <td>69.400000</td>\n",
       "      <td>6.300000</td>\n",
       "      <td>39.500000</td>\n",
       "    </tr>\n",
       "    <tr>\n",
       "      <th>75%</th>\n",
       "      <td>15.800000</td>\n",
       "      <td>28.100000</td>\n",
       "      <td>87.950000</td>\n",
       "      <td>9.450000</td>\n",
       "      <td>52.600000</td>\n",
       "    </tr>\n",
       "    <tr>\n",
       "      <th>max</th>\n",
       "      <td>25.300000</td>\n",
       "      <td>44.800000</td>\n",
       "      <td>104.300000</td>\n",
       "      <td>65.000000</td>\n",
       "      <td>69.100000</td>\n",
       "    </tr>\n",
       "  </tbody>\n",
       "</table>\n",
       "</div>"
      ],
      "text/plain": [
       "          PovPct  Brth15to17  Brth18to19  ViolCrime   TeenBrth\n",
       "count  51.000000   51.000000   51.000000  51.000000  51.000000\n",
       "mean   13.117647   22.282353   72.019608   7.854902  42.243137\n",
       "std     4.277228    8.043499   18.975563   8.914131  12.318511\n",
       "min     5.300000    8.100000   39.000000   0.900000  20.000000\n",
       "25%    10.250000   17.250000   58.300000   3.900000  33.900000\n",
       "50%    12.200000   20.000000   69.400000   6.300000  39.500000\n",
       "75%    15.800000   28.100000   87.950000   9.450000  52.600000\n",
       "max    25.300000   44.800000  104.300000  65.000000  69.100000"
      ]
     },
     "execution_count": 337,
     "metadata": {},
     "output_type": "execute_result"
    }
   ],
   "source": [
    "dataset.describe()"
   ]
  },
  {
   "cell_type": "code",
   "execution_count": 338,
   "metadata": {},
   "outputs": [
    {
     "data": {
      "text/plain": [
       "<AxesSubplot:ylabel='Density'>"
      ]
     },
     "execution_count": 338,
     "metadata": {},
     "output_type": "execute_result"
    },
    {
     "data": {
      "image/png": "[encoded data removed]",
      "text/plain": [
       "<Figure size 432x288 with 1 Axes>"
      ]
     },
     "metadata": {
      "needs_background": "light"
     },
     "output_type": "display_data"
    }
   ],
   "source": [
    "dataset.plot.density()"
   ]
  },
  {
   "cell_type": "markdown",
   "metadata": {},
   "source": [
    "### seem fairly normal, as a first approximation an OLS seems reasonable (doesn't matter if they are not normal tbh). I don't know whether these are independent. I can check..."
   ]
  },
  {
   "cell_type": "code",
   "execution_count": 339,
   "metadata": {},
   "outputs": [
    {
     "data": {
      "text/html": [
       "<div>\n",
       "<style scoped>\n",
       "    .dataframe tbody tr th:only-of-type {\n",
       "        vertical-align: middle;\n",
       "    }\n",
       "\n",
       "    .dataframe tbody tr th {\n",
       "        vertical-align: top;\n",
       "    }\n",
       "\n",
       "    .dataframe thead th {\n",
       "        text-align: right;\n",
       "    }\n",
       "</style>\n",
       "<table border=\"1\" class=\"dataframe\">\n",
       "  <thead>\n",
       "    <tr style=\"text-align: right;\">\n",
       "      <th></th>\n",
       "      <th>PovPct</th>\n",
       "      <th>Brth15to17</th>\n",
       "      <th>Brth18to19</th>\n",
       "      <th>ViolCrime</th>\n",
       "      <th>TeenBrth</th>\n",
       "    </tr>\n",
       "  </thead>\n",
       "  <tbody>\n",
       "    <tr>\n",
       "      <th>PovPct</th>\n",
       "      <td>1.000000</td>\n",
       "      <td>0.730293</td>\n",
       "      <td>0.649660</td>\n",
       "      <td>0.469564</td>\n",
       "      <td>0.703285</td>\n",
       "    </tr>\n",
       "    <tr>\n",
       "      <th>Brth15to17</th>\n",
       "      <td>0.730293</td>\n",
       "      <td>1.000000</td>\n",
       "      <td>0.942449</td>\n",
       "      <td>0.640274</td>\n",
       "      <td>0.978826</td>\n",
       "    </tr>\n",
       "    <tr>\n",
       "      <th>Brth18to19</th>\n",
       "      <td>0.649660</td>\n",
       "      <td>0.942449</td>\n",
       "      <td>1.000000</td>\n",
       "      <td>0.477704</td>\n",
       "      <td>0.988975</td>\n",
       "    </tr>\n",
       "    <tr>\n",
       "      <th>ViolCrime</th>\n",
       "      <td>0.469564</td>\n",
       "      <td>0.640274</td>\n",
       "      <td>0.477704</td>\n",
       "      <td>1.000000</td>\n",
       "      <td>0.557937</td>\n",
       "    </tr>\n",
       "    <tr>\n",
       "      <th>TeenBrth</th>\n",
       "      <td>0.703285</td>\n",
       "      <td>0.978826</td>\n",
       "      <td>0.988975</td>\n",
       "      <td>0.557937</td>\n",
       "      <td>1.000000</td>\n",
       "    </tr>\n",
       "  </tbody>\n",
       "</table>\n",
       "</div>"
      ],
      "text/plain": [
       "              PovPct  Brth15to17  Brth18to19  ViolCrime  TeenBrth\n",
       "PovPct      1.000000    0.730293    0.649660   0.469564  0.703285\n",
       "Brth15to17  0.730293    1.000000    0.942449   0.640274  0.978826\n",
       "Brth18to19  0.649660    0.942449    1.000000   0.477704  0.988975\n",
       "ViolCrime   0.469564    0.640274    0.477704   1.000000  0.557937\n",
       "TeenBrth    0.703285    0.978826    0.988975   0.557937  1.000000"
      ]
     },
     "execution_count": 339,
     "metadata": {},
     "output_type": "execute_result"
    }
   ],
   "source": [
    "dataset.corr()"
   ]
  },
  {
   "cell_type": "code",
   "execution_count": 340,
   "metadata": {},
   "outputs": [],
   "source": [
    "import seaborn as sns"
   ]
  },
  {
   "cell_type": "code",
   "execution_count": 341,
   "metadata": {},
   "outputs": [
    {
     "data": {
      "text/plain": [
       "<seaborn.axisgrid.PairGrid at 0x7f1200317fd0>"
      ]
     },
     "execution_count": 341,
     "metadata": {},
     "output_type": "execute_result"
    },
    {
     "data": {
      "image/png": "[encoded data removed]",
      "text/plain": [
       "<Figure size 900x900 with 30 Axes>"
      ]
     },
     "metadata": {
      "needs_background": "light"
     },
     "output_type": "display_data"
    }
   ],
   "source": [
    "sns.pairplot(dataset)"
   ]
  },
  {
   "cell_type": "markdown",
   "metadata": {},
   "source": [
    "Some of these are quite correlated e.g. births grouped, teen birth with Vol crime. Don't think OLS is right. Need to pca (de-correlate) then regress or treat each case seperately but Imma roll with it as the main purpose of this exercise is to familiarize myself with pytorch jargon.\n",
    "\n",
    "edit: turns out this is a simple exercise to regress vec y against specific vec x s."
   ]
  },
  {
   "cell_type": "code",
   "execution_count": 342,
   "metadata": {},
   "outputs": [],
   "source": [
    "A = dataset.iloc[:,1:].to_numpy()"
   ]
  },
  {
   "cell_type": "markdown",
   "metadata": {},
   "source": [
    "### standardize data otherwise routines are going to spit out gibberish"
   ]
  },
  {
   "cell_type": "code",
   "execution_count": 347,
   "metadata": {},
   "outputs": [],
   "source": [
    "from sklearn.preprocessing import StandardScaler\n",
    "scaler = StandardScaler()\n",
    "A = scaler.fit_transform(A)"
   ]
  },
  {
   "cell_type": "code",
   "execution_count": 348,
   "metadata": {},
   "outputs": [],
   "source": [
    "tA = t.from_numpy(A)"
   ]
  },
  {
   "cell_type": "code",
   "execution_count": 349,
   "metadata": {},
   "outputs": [],
   "source": [
    "tA.requires_grad = True  # set the gradient requirement to put tA on the graph"
   ]
  },
  {
   "cell_type": "code",
   "execution_count": 350,
   "metadata": {},
   "outputs": [
    {
     "data": {
      "text/plain": [
       "tensor([[ 1.6487e+00,  1.1574e+00,  8.8779e-01,  3.7899e-01,  1.0049e+00],\n",
       "        [-1.4209e+00, -4.2469e-01,  8.9437e-02,  1.4107e-01, -2.2490e-01],\n",
       "        [ 7.0420e-01,  1.5968e+00,  1.6223e+00,  2.8835e-01,  1.5542e+00],\n",
       "        [ 4.2085e-01,  1.1699e+00,  1.5797e+00,  2.8835e-01,  1.4476e+00],\n",
       "        [ 8.4587e-01,  3.9884e-02, -1.5539e-01,  3.7899e-01, -9.3722e-02],\n",
       "        [-1.0195e+00,  4.9190e-01,  3.7684e-01, -2.3282e-01,  3.9000e-01],\n",
       "        [-8.0698e-01, -1.0274e+00, -1.4328e+00, -3.6877e-01, -1.3481e+00],\n",
       "        [-6.6531e-01,  3.0356e-01,  3.0765e-01, -4.9340e-01,  3.3261e-01],\n",
       "        [ 2.0973e+00,  2.8273e+00,  1.5691e+00,  6.4744e+00,  2.2019e+00],\n",
       "        [ 7.2781e-01,  1.1522e-01,  3.3959e-01, -6.2869e-02,  1.8503e-01],\n",
       "        [-2.4029e-01,  1.1448e+00,  1.1060e+00,  1.8639e-01,  1.1033e+00],\n",
       "        [-6.6531e-01, -5.7537e-01, -2.9910e-01, -3.5744e-01, -3.3148e-01],\n",
       "        [ 3.2640e-01, -4.8747e-01, -1.5539e-01, -4.2542e-01, -2.5769e-01],\n",
       "        [-1.6945e-01,  1.4033e-01, -8.0879e-02,  2.7702e-01, -3.5367e-03],\n",
       "        [-8.3060e-01,  3.9884e-02,  3.4491e-01,  1.6439e-02,  1.9323e-01],\n",
       "        [-2.1668e-01, -7.3859e-01, -8.8456e-01, -6.8601e-01, -7.9880e-01],\n",
       "        [-5.4725e-01, -1.1079e-01,  1.1605e-01, -1.8750e-01,  6.2052e-02],\n",
       "        [ 3.7363e-01,  5.2957e-01,  6.8022e-01, -7.4199e-02,  7.1794e-01],\n",
       "        [ 1.5542e+00,  1.1825e+00,  1.2816e+00,  1.0361e+00,  1.3000e+00],\n",
       "        [-4.5280e-01, -1.3036e+00, -1.4274e+00, -6.6335e-01, -1.3809e+00],\n",
       "        [-7.1253e-01, -2.8657e-01, -6.6102e-01,  4.4697e-01, -5.6104e-01],\n",
       "        [-5.0002e-01, -1.2283e+00, -1.7255e+00, -4.8207e-01, -1.5531e+00],\n",
       "        [-2.1668e-01, -5.3770e-01, -5.9715e-01,  7.3088e-02, -6.1024e-01],\n",
       "        [-9.2505e-01, -1.0148e+00, -1.3157e+00, -4.4808e-01, -1.2087e+00],\n",
       "        [ 2.4515e+00,  1.9233e+00,  1.6649e+00,  5.7160e-01,  1.8412e+00],\n",
       "        [-8.7782e-01, -1.0340e-02,  2.4379e-01,  1.0708e-01,  1.5224e-01],\n",
       "        [ 5.1530e-01, -5.6281e-01, -4.6409e-01, -5.5005e-01, -4.7906e-01],\n",
       "        [-8.3060e-01, -5.0003e-01, -4.1619e-01, -5.6138e-01, -4.2987e-01],\n",
       "        [-4.7641e-01,  7.1791e-01,  1.3136e+00,  3.2234e-01,  9.5570e-01],\n",
       "        [-1.8459e+00, -1.7808e+00, -1.7574e+00, -6.8601e-01, -1.8236e+00],\n",
       "        [-1.2556e+00, -9.5205e-01, -1.3795e+00, -3.1212e-01, -1.2661e+00],\n",
       "        [ 2.8765e+00,  1.9484e+00,  1.4626e+00,  1.0708e-01,  1.6526e+00],\n",
       "        [ 7.9865e-01, -8.2649e-01, -1.1666e+00,  7.3088e-02, -1.0448e+00],\n",
       "        [-1.2223e-01,  7.9325e-01,  9.1973e-01,  1.7506e-01,  8.1633e-01],\n",
       "        [-2.6390e-01, -1.3287e+00, -1.2412e+00, -7.8797e-01, -1.2333e+00],\n",
       "        [-3.8196e-01, -2.7402e-01, -1.3943e-01, -2.7813e-01, -2.2490e-01],\n",
       "        [ 9.4032e-01,  9.8159e-01,  1.3615e+00,  4.9229e-01,  1.2918e+00],\n",
       "        [-4.5280e-01, -5.1258e-01, -3.8425e-01, -4.2542e-01, -4.4626e-01],\n",
       "        [-2.1668e-01, -6.3815e-01, -9.7504e-01, -1.7617e-01, -8.7259e-01],\n",
       "        [-5.9447e-01, -3.3680e-01, -6.9295e-01, -5.1606e-01, -5.4465e-01],\n",
       "        [ 1.6015e+00,  8.6859e-01,  8.0796e-01,  5.1095e-03,  8.8192e-01],\n",
       "        [ 3.2640e-01, -6.2559e-01, -2.2458e-01, -6.8601e-01, -3.4788e-01],\n",
       "        [ 5.6253e-01,  7.4303e-01,  1.1805e+00,  3.1101e-01,  9.8850e-01],\n",
       "        [ 1.0112e+00,  1.9986e+00,  1.7181e+00,  1.2974e-01,  1.8166e+00],\n",
       "        [-1.1139e+00, -5.6281e-01, -5.1199e-01, -4.4808e-01, -4.4626e-01],\n",
       "        [-6.6531e-01, -1.4920e+00, -1.4700e+00, -6.4069e-01, -1.4793e+00],\n",
       "        [-6.8892e-01, -4.1214e-01, -3.2039e-01, -2.8880e-02, -3.8067e-01],\n",
       "        [-1.4584e-01, -6.8837e-01, -7.6747e-01, -3.1212e-01, -7.5781e-01],\n",
       "        [ 8.4587e-01, -9.8233e-02,  4.6200e-01, -3.3478e-01,  2.6702e-01],\n",
       "        [-1.0903e+00, -8.0138e-01, -7.9408e-01, -4.0276e-01, -8.1520e-01],\n",
       "        [-2.1668e-01, -5.7537e-01,  4.2788e-03, -6.5202e-01, -1.9211e-01]],\n",
       "       dtype=torch.float64, requires_grad=True)"
      ]
     },
     "execution_count": 350,
     "metadata": {},
     "output_type": "execute_result"
    }
   ],
   "source": [
    "tA"
   ]
  },
  {
   "cell_type": "code",
   "execution_count": 351,
   "metadata": {},
   "outputs": [
    {
     "data": {
      "text/plain": [
       "tensor([2.6123e-17, 4.1361e-17, 0.0000e+00, 8.7076e-18, 2.1769e-18],\n",
       "       dtype=torch.float64, grad_fn=<MeanBackward1>)"
      ]
     },
     "execution_count": 351,
     "metadata": {},
     "output_type": "execute_result"
    }
   ],
   "source": [
    "tA.mean(dim=0) # simple check to see grad_fn"
   ]
  },
  {
   "cell_type": "code",
   "execution_count": 352,
   "metadata": {},
   "outputs": [
    {
     "data": {
      "text/plain": [
       "tensor(96.1298, dtype=torch.float64, grad_fn=<MulBackward0>)"
      ]
     },
     "execution_count": 352,
     "metadata": {},
     "output_type": "execute_result"
    }
   ],
   "source": [
    "t.matmul(tA[:,1].T, tA[:,2])*2 # another one"
   ]
  },
  {
   "cell_type": "code",
   "execution_count": 353,
   "metadata": {},
   "outputs": [
    {
     "data": {
      "text/plain": [
       "tensor([[0.0039, 0.0039, 0.0039, 0.0039, 0.0039],\n",
       "        [0.0039, 0.0039, 0.0039, 0.0039, 0.0039],\n",
       "        [0.0039, 0.0039, 0.0039, 0.0039, 0.0039],\n",
       "        [0.0039, 0.0039, 0.0039, 0.0039, 0.0039],\n",
       "        [0.0039, 0.0039, 0.0039, 0.0039, 0.0039],\n",
       "        [0.0039, 0.0039, 0.0039, 0.0039, 0.0039],\n",
       "        [0.0039, 0.0039, 0.0039, 0.0039, 0.0039],\n",
       "        [0.0039, 0.0039, 0.0039, 0.0039, 0.0039],\n",
       "        [0.0039, 0.0039, 0.0039, 0.0039, 0.0039],\n",
       "        [0.0039, 0.0039, 0.0039, 0.0039, 0.0039],\n",
       "        [0.0039, 0.0039, 0.0039, 0.0039, 0.0039],\n",
       "        [0.0039, 0.0039, 0.0039, 0.0039, 0.0039],\n",
       "        [0.0039, 0.0039, 0.0039, 0.0039, 0.0039],\n",
       "        [0.0039, 0.0039, 0.0039, 0.0039, 0.0039],\n",
       "        [0.0039, 0.0039, 0.0039, 0.0039, 0.0039],\n",
       "        [0.0039, 0.0039, 0.0039, 0.0039, 0.0039],\n",
       "        [0.0039, 0.0039, 0.0039, 0.0039, 0.0039],\n",
       "        [0.0039, 0.0039, 0.0039, 0.0039, 0.0039],\n",
       "        [0.0039, 0.0039, 0.0039, 0.0039, 0.0039],\n",
       "        [0.0039, 0.0039, 0.0039, 0.0039, 0.0039],\n",
       "        [0.0039, 0.0039, 0.0039, 0.0039, 0.0039],\n",
       "        [0.0039, 0.0039, 0.0039, 0.0039, 0.0039],\n",
       "        [0.0039, 0.0039, 0.0039, 0.0039, 0.0039],\n",
       "        [0.0039, 0.0039, 0.0039, 0.0039, 0.0039],\n",
       "        [0.0039, 0.0039, 0.0039, 0.0039, 0.0039],\n",
       "        [0.0039, 0.0039, 0.0039, 0.0039, 0.0039],\n",
       "        [0.0039, 0.0039, 0.0039, 0.0039, 0.0039],\n",
       "        [0.0039, 0.0039, 0.0039, 0.0039, 0.0039],\n",
       "        [0.0039, 0.0039, 0.0039, 0.0039, 0.0039],\n",
       "        [0.0039, 0.0039, 0.0039, 0.0039, 0.0039],\n",
       "        [0.0039, 0.0039, 0.0039, 0.0039, 0.0039],\n",
       "        [0.0039, 0.0039, 0.0039, 0.0039, 0.0039],\n",
       "        [0.0039, 0.0039, 0.0039, 0.0039, 0.0039],\n",
       "        [0.0039, 0.0039, 0.0039, 0.0039, 0.0039],\n",
       "        [0.0039, 0.0039, 0.0039, 0.0039, 0.0039],\n",
       "        [0.0039, 0.0039, 0.0039, 0.0039, 0.0039],\n",
       "        [0.0039, 0.0039, 0.0039, 0.0039, 0.0039],\n",
       "        [0.0039, 0.0039, 0.0039, 0.0039, 0.0039],\n",
       "        [0.0039, 0.0039, 0.0039, 0.0039, 0.0039],\n",
       "        [0.0039, 0.0039, 0.0039, 0.0039, 0.0039],\n",
       "        [0.0039, 0.0039, 0.0039, 0.0039, 0.0039],\n",
       "        [0.0039, 0.0039, 0.0039, 0.0039, 0.0039],\n",
       "        [0.0039, 0.0039, 0.0039, 0.0039, 0.0039],\n",
       "        [0.0039, 0.0039, 0.0039, 0.0039, 0.0039],\n",
       "        [0.0039, 0.0039, 0.0039, 0.0039, 0.0039],\n",
       "        [0.0039, 0.0039, 0.0039, 0.0039, 0.0039],\n",
       "        [0.0039, 0.0039, 0.0039, 0.0039, 0.0039],\n",
       "        [0.0039, 0.0039, 0.0039, 0.0039, 0.0039],\n",
       "        [0.0039, 0.0039, 0.0039, 0.0039, 0.0039],\n",
       "        [0.0039, 0.0039, 0.0039, 0.0039, 0.0039],\n",
       "        [0.0039, 0.0039, 0.0039, 0.0039, 0.0039]], dtype=torch.float64)"
      ]
     },
     "execution_count": 353,
     "metadata": {},
     "output_type": "execute_result"
    }
   ],
   "source": [
    "out = tA.mean()\n",
    "\n",
    "out.backward()\n",
    "\n",
    "tA.grad"
   ]
  },
  {
   "cell_type": "markdown",
   "metadata": {},
   "source": [
    "OLS defined for a matrix of independent variates $A$ and the target vector $b$, is the vector $x^*$ that argminimizes,\n",
    "$$ x^* = \\text{arg}\\min_x{||\\hat{A}\\bf{x} - \\bf{b}||^2} $$\n",
    "\n",
    "A couple steps of calculus later, (minimizing w.r.t. x), we get:\n",
    "$$x^* = (\\hat{A}^T\\hat{A})^{-1}\\hat{A}^Tb$$\n",
    "\n",
    "OLS assumes independent variates but crucially does not assume a form of the distribution of the independent variates. The only assumption is that there is no correlation of the independent variates w.r.t. the assumed noise in our model (a linear factor taken, I suspect, mostly out of convenience as this is the simplest model statisticians like to work with [analogous to the SHO for physicists])."
   ]
  },
  {
   "cell_type": "markdown",
   "metadata": {},
   "source": [
    "couple of things that I need to do:\n",
    "\n",
    "* Clean up ols code to make it work for higher dimensions\n",
    "* Use pytorch computation graph framework for regression \n",
    " \n",
    "\n"
   ]
  },
  {
   "cell_type": "code",
   "execution_count": 354,
   "metadata": {},
   "outputs": [],
   "source": [
    "def ols_plot(vecA, vecB, title_x=\"x\", title_y=\"y\"):\n",
    "    \"\"\"\n",
    "    n-D OLS estimate is produced. Assumes its given n vectors for independent variate and target.\"\n",
    "    requires_grad needs to be true to put the entire compute on a DAG.\n",
    "    \n",
    "    default is 1-D regression\n",
    "    aiming to do two calls to the same computation graph (DAG) \n",
    "    \"\"\"\n",
    "    if len(vecA) != 51:\n",
    "        vecA = t.vstack((vecA)) # this A.T\n",
    "        \n",
    "    else:\n",
    "        vecA = vecA.reshape(-1,len(vecA))\n",
    "        \n",
    "        \n",
    "        \n",
    "    vecB = vecB.reshape(len(vecB), -1)\n",
    "    \n",
    "    ii = t.inverse(t.matmul(vecA, vecA.T)) # design matrix inverse\n",
    "    ols = t.matmul(ii,t.matmul(vecA, vecB))\n",
    "    \n",
    "    mx = t.matmul(vecA.mean(dim=1).reshape(1, -1), ols)\n",
    "    intercept = vecB.mean() - mx   # y - m*x = c  # just use means => ols property, passes through mean\n",
    "\n",
    "    return ols, intercept"
   ]
  },
  {
   "cell_type": "markdown",
   "metadata": {},
   "source": [
    "### Plotting Brth15to17 against PovPct using torch"
   ]
  },
  {
   "cell_type": "code",
   "execution_count": 355,
   "metadata": {},
   "outputs": [
    {
     "name": "stdout",
     "output_type": "stream",
     "text": [
      "tensor([[0.7303]], dtype=torch.float64) tensor([[2.2284e-17]], dtype=torch.float64)\n"
     ]
    },
    {
     "data": {
      "image/png": "[encoded data removed]",
      "text/plain": [
       "<Figure size 432x288 with 1 Axes>"
      ]
     },
     "metadata": {
      "needs_background": "light"
     },
     "output_type": "display_data"
    }
   ],
   "source": [
    "title_x = \"PovPct\"\n",
    "title_y = \"Births15to17\"\n",
    "with t.no_grad():\n",
    "    output1 = ols_plot((tA[:,0]), tA[:,1])\n",
    "    grad1, int1 = output1\n",
    "    print(grad1, int1)\n",
    "    ols, intercept = float(grad1), float(int1)\n",
    "    x = np.linspace(min(tA[:,0]), max(tA[:,0]))\n",
    "    y = ols*x + intercept\n",
    "    plt.plot(tA[:,0], tA[:,1], \"x\")\n",
    "    plt.plot(x, y, label=\"ols_fit\")\n",
    "    plt.legend()\n",
    "    plt.xlabel(title_x)\n",
    "    plt.ylabel(title_y)\n",
    "    output2 = ols_plot((tA[:,0], tA[:,3]), tA[:,1])"
   ]
  },
  {
   "cell_type": "markdown",
   "metadata": {},
   "source": [
    "### Plotting Brth15to17 against PovPct and VoilCrime using torch (using the same computation graph as tensor.backward hasn't been called)"
   ]
  },
  {
   "cell_type": "code",
   "execution_count": 356,
   "metadata": {},
   "outputs": [
    {
     "name": "stdout",
     "output_type": "stream",
     "text": [
      "tensor([[0.5512],\n",
      "        [0.3815]], dtype=torch.float64) tensor([[2.3641e-17]], dtype=torch.float64)\n"
     ]
    },
    {
     "data": {
      "image/png": "[encoded data removed]",
      "text/plain": [
       "<Figure size 432x288 with 1 Axes>"
      ]
     },
     "metadata": {
      "needs_background": "light"
     },
     "output_type": "display_data"
    },
    {
     "data": {
      "image/png": "[encoded data removed]",
      "text/plain": [
       "<Figure size 432x288 with 1 Axes>"
      ]
     },
     "metadata": {
      "needs_background": "light"
     },
     "output_type": "display_data"
    }
   ],
   "source": [
    "title_x = [\"PovPct\", \"VoilCrime\"]\n",
    "title_y = \"Births15to17\"\n",
    "vecA = (tA[:,0], tA[:,3])\n",
    "vecB = tA[:,1]\n",
    "with t.no_grad():\n",
    "    output2 = ols_plot(vecA, vecB)\n",
    "    ols, intercept = output2\n",
    "    print(ols, intercept)\n",
    "    for i,tensor in enumerate(vecA):\n",
    "        x = t.linspace(float(min(tensor)), float(max(tensor)))\n",
    "        y = ols[i]*x + intercept\n",
    "\n",
    "        plt.figure()\n",
    "        plt.plot(tensor, vecB, \"x\")\n",
    "        plt.plot(x, y.squeeze(), label=\"ols_fit\")\n",
    "        plt.legend()\n",
    "        plt.xlabel(title_x[i])\n",
    "        plt.ylabel(title_y)\n",
    "        "
   ]
  },
  {
   "cell_type": "markdown",
   "metadata": {},
   "source": [
    "double regression fit not quite successful, outlier skews results maybe? can check... \n",
    "\n",
    "But mainly the point of this exercise is that one needs to be careful when working with pytorch tensors. Dynamic graph computation optimizes a tediously long grad evaluation process but simple tensor manipulation through numpy to torch and back transformations can mess with it."
   ]
  },
  {
   "cell_type": "code",
   "execution_count": 306,
   "metadata": {},
   "outputs": [
    {
     "data": {
      "text/plain": [
       "(tensor([[1.4778],\n",
       "         [0.2996]], dtype=torch.float64, grad_fn=<MmBackward>),\n",
       " tensor([[0.5437]], dtype=torch.float64, grad_fn=<SubBackward0>))"
      ]
     },
     "execution_count": 306,
     "metadata": {},
     "output_type": "execute_result"
    }
   ],
   "source": [
    "output2 = ols_plot(vecA, vecB)\n",
    "output2"
   ]
  },
  {
   "cell_type": "code",
   "execution_count": 290,
   "metadata": {},
   "outputs": [],
   "source": [
    "int1.backward(retain_graph=True)"
   ]
  },
  {
   "cell_type": "code",
   "execution_count": 291,
   "metadata": {},
   "outputs": [
    {
     "data": {
      "text/plain": [
       "tensor([[0.4028]], dtype=torch.float64, grad_fn=<SubBackward0>)"
      ]
     },
     "execution_count": 291,
     "metadata": {},
     "output_type": "execute_result"
    }
   ],
   "source": [
    "int1"
   ]
  },
  {
   "cell_type": "markdown",
   "metadata": {},
   "source": [
    "## Past attempts: deprecated now..."
   ]
  },
  {
   "cell_type": "markdown",
   "metadata": {},
   "source": [
    "### Plotting Brth15to17 against PovPct using torch"
   ]
  },
  {
   "cell_type": "code",
   "execution_count": 270,
   "metadata": {},
   "outputs": [
    {
     "data": {
      "text/plain": [
       "(1.6679469662884245, 0.40281332456949315)"
      ]
     },
     "execution_count": 270,
     "metadata": {},
     "output_type": "execute_result"
    }
   ],
   "source": [
    "ols, intercept = ols_estimate(tA[:, 0], tA[:, 1])\n",
    "ols, intercept = float(ols), float(intercept)\n",
    "ols, intercept"
   ]
  },
  {
   "cell_type": "markdown",
   "metadata": {},
   "source": [
    "### As a routine"
   ]
  },
  {
   "cell_type": "code",
   "execution_count": 85,
   "metadata": {},
   "outputs": [
    {
     "data": {
      "text/plain": [
       "(0.5660044487151114, 0.5057361662773996)"
      ]
     },
     "execution_count": 85,
     "metadata": {},
     "output_type": "execute_result"
    },
    {
     "data": {
      "image/png": "[encoded data removed]",
      "text/plain": [
       "<Figure size 432x288 with 1 Axes>"
      ]
     },
     "metadata": {
      "needs_background": "light"
     },
     "output_type": "display_data"
    }
   ],
   "source": [
    "ols_plot(tA[:, 1], tA[:, 0], \"PovPct\", \"Brth15to17\")"
   ]
  },
  {
   "cell_type": "markdown",
   "metadata": {},
   "source": [
    "## Check with sklearn"
   ]
  },
  {
   "cell_type": "code",
   "execution_count": 87,
   "metadata": {},
   "outputs": [],
   "source": [
    "import sklearn"
   ]
  },
  {
   "cell_type": "code",
   "execution_count": 91,
   "metadata": {},
   "outputs": [],
   "source": [
    "from sklearn.linear_model import LinearRegression"
   ]
  },
  {
   "cell_type": "code",
   "execution_count": 357,
   "metadata": {},
   "outputs": [
    {
     "data": {
      "text/plain": [
       "array([0.55117127, 0.38146445])"
      ]
     },
     "execution_count": 357,
     "metadata": {},
     "output_type": "execute_result"
    }
   ],
   "source": [
    "model = LinearRegression(fit_intercept=True)\n",
    "\n",
    "x = np.vstack((A[:,0], A[:,3])).T\n",
    "y = A[:, 1]\n",
    "model = model.fit(x, y)\n",
    "model.coef_"
   ]
  },
  {
   "cell_type": "code",
   "execution_count": 358,
   "metadata": {},
   "outputs": [
    {
     "data": {
      "text/plain": [
       "5.866752095001724e-17"
      ]
     },
     "execution_count": 358,
     "metadata": {},
     "output_type": "execute_result"
    }
   ],
   "source": [
    "model.intercept_"
   ]
  },
  {
   "cell_type": "code",
   "execution_count": 327,
   "metadata": {},
   "outputs": [
    {
     "data": {
      "text/plain": [
       "array([[1.47780427],\n",
       "       [0.29959942]])"
      ]
     },
     "execution_count": 327,
     "metadata": {},
     "output_type": "execute_result"
    }
   ],
   "source": [
    "np.matmul(np.matmul(np.linalg.inv(np.matmul(x.T, x)), x.T), y.reshape(51, 1))"
   ]
  },
  {
   "cell_type": "code",
   "execution_count": 325,
   "metadata": {},
   "outputs": [
    {
     "data": {
      "text/plain": [
       "(51,)"
      ]
     },
     "execution_count": 325,
     "metadata": {},
     "output_type": "execute_result"
    }
   ],
   "source": [
    "y.shape"
   ]
  },
  {
   "cell_type": "code",
   "execution_count": 343,
   "metadata": {},
   "outputs": [],
   "source": [
    "A = dataset.iloc[:,1:].to_numpy()"
   ]
  },
  {
   "cell_type": "code",
   "execution_count": 329,
   "metadata": {},
   "outputs": [
    {
     "name": "stdout",
     "output_type": "stream",
     "text": [
      "StandardScaler()\n"
     ]
    }
   ],
   "source": [
    "from sklearn.preprocessing import StandardScaler\n",
    "scaler = StandardScaler() # N.B. not scalar lol\n",
    "print(scaler.fit(A))"
   ]
  },
  {
   "cell_type": "code",
   "execution_count": 345,
   "metadata": {},
   "outputs": [
    {
     "data": {
      "text/plain": [
       "array([[0.55117127],\n",
       "       [0.38146445]])"
      ]
     },
     "execution_count": 345,
     "metadata": {},
     "output_type": "execute_result"
    }
   ],
   "source": [
    "A = scaler.fit_transform(A)\n",
    "x = np.vstack((A[:,0], A[:,3])).T\n",
    "y = A[:, 1]\n",
    "np.matmul(np.matmul(np.linalg.inv(np.matmul(x.T, x)), x.T), y.reshape(51, 1))"
   ]
  },
  {
   "cell_type": "code",
   "execution_count": null,
   "metadata": {},
   "outputs": [],
   "source": []
  }
 ],
 "metadata": {
  "kernelspec": {
   "display_name": "Python 3",
   "language": "python",
   "name": "python3"
  },
  "language_info": {
   "codemirror_mode": {
    "name": "ipython",
    "version": 3
   },
   "file_extension": ".py",
   "mimetype": "text/x-python",
   "name": "python",
   "nbconvert_exporter": "python",
   "pygments_lexer": "ipython3",
   "version": "3.8.3"
  }
 },
 "nbformat": 4,
 "nbformat_minor": 4
}
