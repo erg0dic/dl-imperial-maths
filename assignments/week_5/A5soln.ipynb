{
 "cells": [
  {
   "cell_type": "markdown",
   "metadata": {},
   "source": [
    "# Assignment 5: REINFORCE on Gym's Cartpole problem"
   ]
  },
  {
   "cell_type": "code",
   "execution_count": 51,
   "metadata": {},
   "outputs": [],
   "source": [
    "import math\n",
    "import gym\n",
    "from matplotlib import pyplot as plt\n",
    "import torch\n",
    "from torch import nn, optim\n",
    "from torch.distributions import Categorical\n",
    "from torch.nn import functional as F\n",
    "from IPython.display import clear_output, display\n",
    "%matplotlib inline\n",
    "gym.logger.set_level(50)\n",
    "import numpy as np"
   ]
  },
  {
   "cell_type": "code",
   "execution_count": 52,
   "metadata": {},
   "outputs": [
    {
     "data": {
      "text/plain": [
       "array([ 0.03606111,  0.02892547,  0.03696746, -0.01972753])"
      ]
     },
     "execution_count": 52,
     "metadata": {},
     "output_type": "execute_result"
    },
    {
     "data": {
      "image/png": "[encoded data removed]",
      "text/plain": [
       "<Figure size 432x288 with 1 Axes>"
      ]
     },
     "metadata": {
      "needs_background": "light"
     },
     "output_type": "display_data"
    }
   ],
   "source": [
    "plt.axis('off')\n",
    "\n",
    "env = gym.make('CartPole-v0')\n",
    "env.reset()"
   ]
  },
  {
   "cell_type": "code",
   "execution_count": 53,
   "metadata": {},
   "outputs": [
    {
     "name": "stdout",
     "output_type": "stream",
     "text": [
      "state_space: Box(-3.4028234663852886e+38, 3.4028234663852886e+38, (4,), float32) \n",
      "\n",
      "action_space: Discrete(2)\n"
     ]
    }
   ],
   "source": [
    "print(f\"state_space: {env.observation_space} \\n\") \n",
    "print(f\"action_space: {env.action_space}\")"
   ]
  },
  {
   "cell_type": "code",
   "execution_count": 54,
   "metadata": {},
   "outputs": [],
   "source": [
    "def obs_to_tensor(obs):\n",
    "    return torch.tensor(obs, dtype=torch.float32).unsqueeze(0)\n",
    "\n",
    "def plot():\n",
    "    plt.plot(range(len(total_rewards)), total_rewards, 'r-')\n",
    "    clear_output(wait=True)\n",
    "    display(plt.gcf())"
   ]
  },
  {
   "cell_type": "code",
   "execution_count": 57,
   "metadata": {},
   "outputs": [],
   "source": [
    "a, b, c, d = env.step(env.action_space.sample())[0]"
   ]
  },
  {
   "cell_type": "code",
   "execution_count": 61,
   "metadata": {},
   "outputs": [],
   "source": [
    "import random\n",
    "def sigmoid_policy(state,theta):\n",
    "    prob = 1/(1+np.exp(-1*state@theta))\n",
    "    if random.random() < prob:\n",
    "        return 1 # mv right\n",
    "    else:\n",
    "        return 0 # mv left"
   ]
  },
  {
   "cell_type": "code",
   "execution_count": 65,
   "metadata": {},
   "outputs": [
    {
     "data": {
      "text/plain": [
       "array([0.0316757 , 0.02220997, 0.04147368, 0.00676946])"
      ]
     },
     "execution_count": 65,
     "metadata": {},
     "output_type": "execute_result"
    }
   ],
   "source": [
    "env.reset()"
   ]
  },
  {
   "cell_type": "code",
   "execution_count": 88,
   "metadata": {},
   "outputs": [
    {
     "data": {
      "text/plain": [
       "16.04281826366305"
      ]
     },
     "execution_count": 88,
     "metadata": {},
     "output_type": "execute_result"
    }
   ],
   "source": [
    "0.27*180/np.pi"
   ]
  },
  {
   "cell_type": "code",
   "execution_count": 83,
   "metadata": {},
   "outputs": [
    {
     "data": {
      "text/plain": [
       "(array([ 0.2592397 ,  2.35189121, -0.22748671, -3.30885765]), 1.0, True, {})"
      ]
     },
     "execution_count": 83,
     "metadata": {},
     "output_type": "execute_result"
    }
   ],
   "source": [
    "env.step(1)"
   ]
  },
  {
   "cell_type": "code",
   "execution_count": 107,
   "metadata": {},
   "outputs": [],
   "source": [
    "theta = np.array([0,0,10,2.5])"
   ]
  },
  {
   "cell_type": "code",
   "execution_count": 108,
   "metadata": {},
   "outputs": [
    {
     "data": {
      "text/plain": [
       "'Average reward: 197.90'"
      ]
     },
     "metadata": {},
     "output_type": "display_data"
    },
    {
     "data": {
      "image/png": "[encoded data removed]",
      "text/plain": [
       "<Figure size 432x288 with 1 Axes>"
      ]
     },
     "metadata": {
      "needs_background": "light"
     },
     "output_type": "display_data"
    }
   ],
   "source": [
    "plt.axis('off')\n",
    "\n",
    "env = gym.make('CartPole-v0')\n",
    "env.reset()\n",
    "rollouts = 100\n",
    "total_reward = 0\n",
    "view = plt.imshow(env.render(mode='rgb_array'))\n",
    "\n",
    "# Perform several rollouts/episodes with a random policy\n",
    "for _ in range(rollouts):\n",
    "    state, done = env.reset(), False  # Reset the environment to a starting state\n",
    "    while not done:  # Act until episode terminates\n",
    "        view.set_data(env.render(mode='rgb_array'))\n",
    "        display(plt.gcf())\n",
    "        clear_output(wait=True)\n",
    "        next_state, reward, done, _ = env.step(sigmoid_policy(state, theta))  # Sample random (valid) action\n",
    "        total_reward += reward\n",
    "        state=next_state\n",
    "\n",
    "env.close()\n",
    "display('Average reward: %.2f' % (total_reward / rollouts))"
   ]
  },
  {
   "cell_type": "markdown",
   "metadata": {},
   "source": [
    "Open gym considers the problem solved if the average reward is greater than 195. Now let's use a policy gradient method to get to this solution. "
   ]
  },
  {
   "cell_type": "code",
   "execution_count": 119,
   "metadata": {},
   "outputs": [],
   "source": [
    "# instantiate random parameters\n",
    "theta = np.array([(2*random.random()-1) for i in range(4)])"
   ]
  },
  {
   "cell_type": "markdown",
   "metadata": {},
   "source": [
    "gradient of the sigmoid policy w.r.t. parameters:\n",
    "$$\\nabla_{\\theta}{\\log \\sigma} = \\frac{-s\\exp{\\left(-\\theta^T\\cdot s\\right)}}{1+\\exp{\\left(-\\theta^T\\cdot s\\right)}}$$\n",
    "\n",
    "The gradient ascent step in REINFORCE looks like:\n",
    "$$\\theta \\leftarrow \\theta + \\alpha \\gamma G_t \\nabla_{\\theta}{\\log \\sigma} $$\n",
    "where $\\alpha$ is some constant (or adaptive) learning rate, $\\gamma$ is a discount factor and $G_t$ is the next step returns following a sample policy path trajectory.\n",
    "\n",
    "The REINFORCE algo in question is:\n",
    "\n",
    "* Initialize random policy\n",
    "* Generate an MDP trajectory using this.\n",
    "* For t=1, ..., T:\n",
    "    * Estimate $G_t$\n",
    "    * Update policy paramters"
   ]
  },
  {
   "cell_type": "code",
   "execution_count": 112,
   "metadata": {},
   "outputs": [],
   "source": [
    "def gls(state, theta, action):\n",
    "    \"gradient of the log of the sigmoid policy\"\n",
    "    log_grad_sigmoid = -1*state*np.exp(-1*state@theta)/(1+np.exp(-1*state@theta))\n",
    "    if action == 1:\n",
    "        return log_grad_sigmoid\n",
    "    else:\n",
    "        return -state+log_grad_sigmoid"
   ]
  },
  {
   "cell_type": "code",
   "execution_count": 164,
   "metadata": {},
   "outputs": [
    {
     "data": {
      "text/plain": [
       "'Average final reward: 88.80'"
      ]
     },
     "metadata": {},
     "output_type": "display_data"
    },
    {
     "data": {
      "image/png": "[encoded data removed]",
      "text/plain": [
       "<Figure size 1008x432 with 1 Axes>"
      ]
     },
     "metadata": {
      "needs_background": "light"
     },
     "output_type": "display_data"
    }
   ],
   "source": [
    "discount = 0.999\n",
    "alpha=0.01\n",
    "epochs = 40\n",
    "rollouts = 200\n",
    "total_rewards = []\n",
    "\n",
    "plt.figure(figsize=(14, 6))\n",
    "plt.xlabel('Epochs')\n",
    "plt.ylabel('Reward')\n",
    "\n",
    "# instantiate random parameters\n",
    "theta = np.array([(2*random.random()-1) for i in range(4)])\n",
    "\n",
    "for _ in range(epochs):\n",
    "        \n",
    "    total_reward = 0\n",
    "\n",
    "    for _ in range(rollouts):\n",
    "        obs, done = env.reset(), False\n",
    "        log_probs_action, rewards= [], []  # Collect outputs for training\n",
    "\n",
    "        while not done:\n",
    "            # Sample an action from the policy conditioned on the current observation\n",
    "            action = sigmoid_policy(obs, theta)\n",
    "            \n",
    "            # Take a step in the enviroment based on the action\n",
    "            next_obs, reward, done, _ = env.step(action)\n",
    "            total_reward += reward\n",
    "\n",
    "            # Store outputs that will be used for training\n",
    "            rewards.append(reward)\n",
    "            log_probs_action.append(gls(obs, theta, action))\n",
    "            obs = next_obs\n",
    "            \n",
    "\n",
    "\n",
    "        # Initialise the final reward and generalised advantage at 0\n",
    "        ep_return = 0\n",
    "        trajectory_length = len(rewards)\n",
    "        \n",
    "        for i in reversed(range(trajectory_length)):  # Calculate the return backwards\n",
    "            ep_return = rewards[i] + discount * ep_return  # Calculate the return recursively backwards; this is G_t\n",
    "            theta -= log_probs_action[i] * ep_return*alpha  # Use the generalised advantage to weight the policy gradient\n",
    "\n",
    "\n",
    "    total_rewards.append(total_reward / rollouts)\n",
    "    plot()\n",
    "\n",
    "clear_output(wait=True)\n",
    "display('Average final reward: %.2f' % total_rewards[-1])"
   ]
  },
  {
   "cell_type": "code",
   "execution_count": 165,
   "metadata": {},
   "outputs": [
    {
     "data": {
      "text/plain": [
       "array([  37.51794602, -795.23549592,   11.25825737, 1329.48834587])"
      ]
     },
     "execution_count": 165,
     "metadata": {},
     "output_type": "execute_result"
    }
   ],
   "source": [
    "theta"
   ]
  },
  {
   "cell_type": "markdown",
   "metadata": {},
   "source": [
    "### this wasn't very successful. Now try fitting the elephant approach"
   ]
  },
  {
   "cell_type": "code",
   "execution_count": 194,
   "metadata": {},
   "outputs": [],
   "source": [
    "class Agent(nn.Module):\n",
    "    def __init__(self):\n",
    "        super().__init__()\n",
    "        self.fc1 = nn.Linear(4, 20)\n",
    "        self.fc2 = nn.Linear(20, 40)\n",
    "        self.head = nn.Linear(40,2)\n",
    "\n",
    "    def forward(self, obs):\n",
    "        obs = F.relu(self.fc1(obs))\n",
    "        obs = F.relu(self.fc2(obs))\n",
    "        policy = F.softmax(self.head(obs))\n",
    "        return Categorical(logits=policy)\n",
    "        "
   ]
  },
  {
   "cell_type": "code",
   "execution_count": 195,
   "metadata": {},
   "outputs": [],
   "source": [
    "x = Agent()"
   ]
  },
  {
   "cell_type": "code",
   "execution_count": 196,
   "metadata": {},
   "outputs": [
    {
     "data": {
      "text/plain": [
       "array([0.30610359, 0.18665002, 0.78078128, 0.60558534])"
      ]
     },
     "execution_count": 196,
     "metadata": {},
     "output_type": "execute_result"
    }
   ],
   "source": [
    "np.random.random(4)"
   ]
  },
  {
   "cell_type": "code",
   "execution_count": 197,
   "metadata": {},
   "outputs": [
    {
     "name": "stderr",
     "output_type": "stream",
     "text": [
      "<ipython-input-194-88b54bc72982>:11: UserWarning: Implicit dimension choice for softmax has been deprecated. Change the call to include dim=X as an argument.\n",
      "  policy = F.softmax(self.head(obs))\n"
     ]
    },
    {
     "data": {
      "text/plain": [
       "tensor([0])"
      ]
     },
     "execution_count": 197,
     "metadata": {},
     "output_type": "execute_result"
    }
   ],
   "source": [
    "prob_dist = x(torch.rand(1,4))\n",
    "p.sample()"
   ]
  },
  {
   "cell_type": "code",
   "execution_count": 200,
   "metadata": {},
   "outputs": [
    {
     "data": {
      "image/png": "[encoded data removed]",
      "text/plain": [
       "<Figure size 1008x432 with 1 Axes>"
      ]
     },
     "metadata": {},
     "output_type": "display_data"
    },
    {
     "ename": "KeyboardInterrupt",
     "evalue": "",
     "output_type": "error",
     "traceback": [
      "\u001b[0;31m---------------------------------------------------------------------------\u001b[0m",
      "\u001b[0;31mKeyboardInterrupt\u001b[0m                         Traceback (most recent call last)",
      "\u001b[0;32m<ipython-input-200-d22da6a33692>\u001b[0m in \u001b[0;36m<module>\u001b[0;34m\u001b[0m\n\u001b[1;32m     52\u001b[0m             \u001b[0mloss\u001b[0m \u001b[0;34m-=\u001b[0m \u001b[0mlog_probs_action\u001b[0m\u001b[0;34m[\u001b[0m\u001b[0mi\u001b[0m\u001b[0;34m]\u001b[0m \u001b[0;34m*\u001b[0m \u001b[0mep_return\u001b[0m  \u001b[0;31m# Use the generalised advantage to weight the policy gradient\u001b[0m\u001b[0;34m\u001b[0m\u001b[0;34m\u001b[0m\u001b[0m\n\u001b[1;32m     53\u001b[0m \u001b[0;34m\u001b[0m\u001b[0m\n\u001b[0;32m---> 54\u001b[0;31m     \u001b[0mloss\u001b[0m\u001b[0;34m.\u001b[0m\u001b[0mbackward\u001b[0m\u001b[0;34m(\u001b[0m\u001b[0;34m)\u001b[0m  \u001b[0;31m# Accumulate gradients\u001b[0m\u001b[0;34m\u001b[0m\u001b[0;34m\u001b[0m\u001b[0m\n\u001b[0m\u001b[1;32m     55\u001b[0m     \u001b[0moptimiser\u001b[0m\u001b[0;34m.\u001b[0m\u001b[0mstep\u001b[0m\u001b[0;34m(\u001b[0m\u001b[0;34m)\u001b[0m  \u001b[0;31m# Perform batch update\u001b[0m\u001b[0;34m\u001b[0m\u001b[0;34m\u001b[0m\u001b[0m\n\u001b[1;32m     56\u001b[0m \u001b[0;34m\u001b[0m\u001b[0m\n",
      "\u001b[0;32m~/miniconda3/lib/python3.8/site-packages/torch/tensor.py\u001b[0m in \u001b[0;36mbackward\u001b[0;34m(self, gradient, retain_graph, create_graph)\u001b[0m\n\u001b[1;32m    219\u001b[0m                 \u001b[0mretain_graph\u001b[0m\u001b[0;34m=\u001b[0m\u001b[0mretain_graph\u001b[0m\u001b[0;34m,\u001b[0m\u001b[0;34m\u001b[0m\u001b[0;34m\u001b[0m\u001b[0m\n\u001b[1;32m    220\u001b[0m                 create_graph=create_graph)\n\u001b[0;32m--> 221\u001b[0;31m         \u001b[0mtorch\u001b[0m\u001b[0;34m.\u001b[0m\u001b[0mautograd\u001b[0m\u001b[0;34m.\u001b[0m\u001b[0mbackward\u001b[0m\u001b[0;34m(\u001b[0m\u001b[0mself\u001b[0m\u001b[0;34m,\u001b[0m \u001b[0mgradient\u001b[0m\u001b[0;34m,\u001b[0m \u001b[0mretain_graph\u001b[0m\u001b[0;34m,\u001b[0m \u001b[0mcreate_graph\u001b[0m\u001b[0;34m)\u001b[0m\u001b[0;34m\u001b[0m\u001b[0;34m\u001b[0m\u001b[0m\n\u001b[0m\u001b[1;32m    222\u001b[0m \u001b[0;34m\u001b[0m\u001b[0m\n\u001b[1;32m    223\u001b[0m     \u001b[0;32mdef\u001b[0m \u001b[0mregister_hook\u001b[0m\u001b[0;34m(\u001b[0m\u001b[0mself\u001b[0m\u001b[0;34m,\u001b[0m \u001b[0mhook\u001b[0m\u001b[0;34m)\u001b[0m\u001b[0;34m:\u001b[0m\u001b[0;34m\u001b[0m\u001b[0;34m\u001b[0m\u001b[0m\n",
      "\u001b[0;32m~/miniconda3/lib/python3.8/site-packages/torch/autograd/__init__.py\u001b[0m in \u001b[0;36mbackward\u001b[0;34m(tensors, grad_tensors, retain_graph, create_graph, grad_variables)\u001b[0m\n\u001b[1;32m    128\u001b[0m         \u001b[0mretain_graph\u001b[0m \u001b[0;34m=\u001b[0m \u001b[0mcreate_graph\u001b[0m\u001b[0;34m\u001b[0m\u001b[0;34m\u001b[0m\u001b[0m\n\u001b[1;32m    129\u001b[0m \u001b[0;34m\u001b[0m\u001b[0m\n\u001b[0;32m--> 130\u001b[0;31m     Variable._execution_engine.run_backward(\n\u001b[0m\u001b[1;32m    131\u001b[0m         \u001b[0mtensors\u001b[0m\u001b[0;34m,\u001b[0m \u001b[0mgrad_tensors_\u001b[0m\u001b[0;34m,\u001b[0m \u001b[0mretain_graph\u001b[0m\u001b[0;34m,\u001b[0m \u001b[0mcreate_graph\u001b[0m\u001b[0;34m,\u001b[0m\u001b[0;34m\u001b[0m\u001b[0;34m\u001b[0m\u001b[0m\n\u001b[1;32m    132\u001b[0m         allow_unreachable=True)  # allow_unreachable flag\n",
      "\u001b[0;31mKeyboardInterrupt\u001b[0m: "
     ]
    },
    {
     "data": {
      "image/png": "[encoded data removed]",
      "text/plain": [
       "<Figure size 1008x432 with 1 Axes>"
      ]
     },
     "metadata": {
      "needs_background": "light"
     },
     "output_type": "display_data"
    }
   ],
   "source": [
    "env = gym.make('CartPole-v0')\n",
    "agent = Agent()\n",
    "agent.train()\n",
    "optimiser = optim.Adam(agent.parameters(), lr=1e-3)\n",
    "discount = 0.999\n",
    "epochs = 1000\n",
    "rollouts = 100\n",
    "total_rewards = []\n",
    "\n",
    "plt.figure(figsize=(14, 6))\n",
    "plt.xlabel('Epochs')\n",
    "plt.ylabel('Reward')\n",
    "\n",
    "# Converts numpy observations from the environment into a batch Tensor for PyTorch\n",
    "def obs_to_tensor(obs):\n",
    "    return torch.tensor(obs, dtype=torch.float32).unsqueeze(0)\n",
    "\n",
    "def plot():\n",
    "    plt.plot(range(len(total_rewards)), total_rewards, 'r-')\n",
    "    clear_output(wait=True)\n",
    "    display(plt.gcf())\n",
    "\n",
    "for _ in range(epochs):\n",
    "    optimiser.zero_grad()    \n",
    "    total_reward = 0\n",
    "    loss = 0\n",
    "    for _ in range(rollouts):\n",
    "        obs, done = obs_to_tensor(env.reset()), False\n",
    "        log_probs_action, rewards = [], []  # Collect outputs for training\n",
    "        while not done:\n",
    "            # Sample an action from the policy conditioned on the current observation\n",
    "            policy = agent(obs)\n",
    "            action = policy.sample()\n",
    "            # Take a step in the enviroment based on the action\n",
    "            obs, reward, done, _ = env.step(action.item())\n",
    "            obs = obs_to_tensor(obs)\n",
    "            total_reward += reward\n",
    "\n",
    "            # Store outputs that will be used for training\n",
    "            rewards.append(reward)\n",
    "            log_probs_action.append(policy.log_prob(action))\n",
    "            \n",
    "\n",
    "        # Initialise the final reward and generalised advantage at 0\n",
    "        ep_return, gae = torch.zeros(1), torch.zeros(1)\n",
    "        values.append(ep_return)\n",
    "        trajectory_length = len(rewards)\n",
    "        \n",
    "        for i in reversed(range(trajectory_length)):  # Calculate the return backwards\n",
    "            ep_return = rewards[i] + discount * ep_return  # Calculate the return recursively backwards\n",
    "  \n",
    "            loss -= log_probs_action[i] * ep_return  # Use the generalised advantage to weight the policy gradient\n",
    "\n",
    "    loss.backward()  # Accumulate gradients\n",
    "    optimiser.step()  # Perform batch update\n",
    "\n",
    "    total_rewards.append(total_reward / rollouts)\n",
    "    plot()\n",
    "\n",
    "clear_output(wait=True)\n",
    "display('Average final reward: %.2f' % total_rewards[-1])"
   ]
  },
  {
   "cell_type": "code",
   "execution_count": 206,
   "metadata": {},
   "outputs": [
    {
     "data": {
      "text/plain": [
       "'Average reward: 108.21'"
      ]
     },
     "metadata": {},
     "output_type": "display_data"
    },
    {
     "data": {
      "image/png": "[encoded data removed]",
      "text/plain": [
       "<Figure size 432x288 with 1 Axes>"
      ]
     },
     "metadata": {
      "needs_background": "light"
     },
     "output_type": "display_data"
    }
   ],
   "source": [
    "## Test\n",
    "\n",
    "env.reset()\n",
    "rollouts = 10\n",
    "total_reward = 0\n",
    "view = plt.imshow(env.render(mode='rgb_array'))\n",
    "\n",
    "# Perform several rollouts/episodes with a random policy\n",
    "for _ in range(rollouts):\n",
    "    state, done = env.reset(), False  # Reset the environment to a starting state\n",
    "    while not done:  # Act until episode terminates\n",
    "        view.set_data(env.render(mode='rgb_array'))\n",
    "        display(plt.gcf())\n",
    "        clear_output(wait=True)\n",
    "        policy = agent(obs_to_tensor(state))\n",
    "        action = policy.sample()\n",
    "        next_state, reward, done, _ = env.step(action.item())  # Sample random (valid) action\n",
    "        total_reward += reward\n",
    "        state=next_state\n",
    "\n",
    "env.close()\n",
    "display('Average reward: %.2f' % (total_reward / rollouts))"
   ]
  },
  {
   "cell_type": "code",
   "execution_count": null,
   "metadata": {},
   "outputs": [],
   "source": []
  }
 ],
 "metadata": {
  "kernelspec": {
   "display_name": "Python 3",
   "language": "python",
   "name": "python3"
  },
  "language_info": {
   "codemirror_mode": {
    "name": "ipython",
    "version": 3
   },
   "file_extension": ".py",
   "mimetype": "text/x-python",
   "name": "python",
   "nbconvert_exporter": "python",
   "pygments_lexer": "ipython3",
   "version": "3.8.3"
  }
 },
 "nbformat": 4,
 "nbformat_minor": 4
}
